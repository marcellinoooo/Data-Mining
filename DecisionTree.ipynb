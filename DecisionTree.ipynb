{
  "nbformat": 4,
  "nbformat_minor": 0,
  "metadata": {
    "colab": {
      "name": "DecisionTree.ipynb",
      "provenance": [],
      "collapsed_sections": []
    },
    "kernelspec": {
      "name": "python3",
      "display_name": "Python 3"
    },
    "language_info": {
      "name": "python"
    }
  },
  "cells": [
    {
      "cell_type": "code",
      "metadata": {
        "id": "Re2UA8u-DG7S"
      },
      "source": [
        "#Import library numpy, pandas dan scikit-learn\n",
        "import numpy as np\n",
        "import pandas as pd\n",
        "from sklearn import tree "
      ],
      "execution_count": null,
      "outputs": []
    },
    {
      "cell_type": "code",
      "metadata": {
        "id": "tDbAt36lFVJp"
      },
      "source": [
        "#Membaca Dataset dari Files ke Pandas dataFrame\n",
        "kucingDataset = pd.read_csv('Dataset Kucing.csv', delimiter = ';', header = 0)"
      ],
      "execution_count": null,
      "outputs": []
    },
    {
      "cell_type": "code",
      "metadata": {
        "colab": {
          "base_uri": "https://localhost:8080/",
          "height": 204
        },
        "id": "sGctkk5wK1NV",
        "outputId": "2f012b8a-9a09-40a0-87b7-c0e3eb4a272a"
      },
      "source": [
        "kucingDataset.head()"
      ],
      "execution_count": null,
      "outputs": [
        {
          "output_type": "execute_result",
          "data": {
            "text/html": [
              "<div>\n",
              "<style scoped>\n",
              "    .dataframe tbody tr th:only-of-type {\n",
              "        vertical-align: middle;\n",
              "    }\n",
              "\n",
              "    .dataframe tbody tr th {\n",
              "        vertical-align: top;\n",
              "    }\n",
              "\n",
              "    .dataframe thead th {\n",
              "        text-align: right;\n",
              "    }\n",
              "</style>\n",
              "<table border=\"1\" class=\"dataframe\">\n",
              "  <thead>\n",
              "    <tr style=\"text-align: right;\">\n",
              "      <th></th>\n",
              "      <th>Id</th>\n",
              "      <th>Panjang Badan</th>\n",
              "      <th>Berat Badan</th>\n",
              "      <th>Umur</th>\n",
              "      <th>Species</th>\n",
              "    </tr>\n",
              "  </thead>\n",
              "  <tbody>\n",
              "    <tr>\n",
              "      <th>0</th>\n",
              "      <td>1</td>\n",
              "      <td>7.00</td>\n",
              "      <td>3.06</td>\n",
              "      <td>2</td>\n",
              "      <td>Persia</td>\n",
              "    </tr>\n",
              "    <tr>\n",
              "      <th>1</th>\n",
              "      <td>2</td>\n",
              "      <td>6.05</td>\n",
              "      <td>4.01</td>\n",
              "      <td>5</td>\n",
              "      <td>Persia</td>\n",
              "    </tr>\n",
              "    <tr>\n",
              "      <th>2</th>\n",
              "      <td>3</td>\n",
              "      <td>6.03</td>\n",
              "      <td>3.06</td>\n",
              "      <td>7</td>\n",
              "      <td>Anggora</td>\n",
              "    </tr>\n",
              "    <tr>\n",
              "      <th>3</th>\n",
              "      <td>4</td>\n",
              "      <td>5.07</td>\n",
              "      <td>3.08</td>\n",
              "      <td>4</td>\n",
              "      <td>Persia</td>\n",
              "    </tr>\n",
              "    <tr>\n",
              "      <th>4</th>\n",
              "      <td>5</td>\n",
              "      <td>6.08</td>\n",
              "      <td>4.03</td>\n",
              "      <td>2</td>\n",
              "      <td>Anggora</td>\n",
              "    </tr>\n",
              "  </tbody>\n",
              "</table>\n",
              "</div>"
            ],
            "text/plain": [
              "   Id  Panjang Badan  Berat Badan  Umur  Species\n",
              "0   1           7.00         3.06     2   Persia\n",
              "1   2           6.05         4.01     5   Persia\n",
              "2   3           6.03         3.06     7  Anggora\n",
              "3   4           5.07         3.08     4   Persia\n",
              "4   5           6.08         4.03     2  Anggora"
            ]
          },
          "metadata": {
            "tags": []
          },
          "execution_count": 3
        }
      ]
    },
    {
      "cell_type": "code",
      "metadata": {
        "id": "vHTxIg0OJGae"
      },
      "source": [
        "#Mengubah Species (kolom \"Species\") dari String ke Unique-Integer\n",
        "kucingDataset[\"Species\"] = pd.factorize(kucingDataset.Species)[0]"
      ],
      "execution_count": null,
      "outputs": []
    },
    {
      "cell_type": "code",
      "metadata": {
        "colab": {
          "base_uri": "https://localhost:8080/",
          "height": 204
        },
        "id": "pfNFySwVLT8t",
        "outputId": "16d716a2-791b-4656-b379-942269d82531"
      },
      "source": [
        "kucingDataset.head()"
      ],
      "execution_count": null,
      "outputs": [
        {
          "output_type": "execute_result",
          "data": {
            "text/html": [
              "<div>\n",
              "<style scoped>\n",
              "    .dataframe tbody tr th:only-of-type {\n",
              "        vertical-align: middle;\n",
              "    }\n",
              "\n",
              "    .dataframe tbody tr th {\n",
              "        vertical-align: top;\n",
              "    }\n",
              "\n",
              "    .dataframe thead th {\n",
              "        text-align: right;\n",
              "    }\n",
              "</style>\n",
              "<table border=\"1\" class=\"dataframe\">\n",
              "  <thead>\n",
              "    <tr style=\"text-align: right;\">\n",
              "      <th></th>\n",
              "      <th>Id</th>\n",
              "      <th>Panjang Badan</th>\n",
              "      <th>Berat Badan</th>\n",
              "      <th>Umur</th>\n",
              "      <th>Species</th>\n",
              "    </tr>\n",
              "  </thead>\n",
              "  <tbody>\n",
              "    <tr>\n",
              "      <th>0</th>\n",
              "      <td>1</td>\n",
              "      <td>7.00</td>\n",
              "      <td>3.06</td>\n",
              "      <td>2</td>\n",
              "      <td>0</td>\n",
              "    </tr>\n",
              "    <tr>\n",
              "      <th>1</th>\n",
              "      <td>2</td>\n",
              "      <td>6.05</td>\n",
              "      <td>4.01</td>\n",
              "      <td>5</td>\n",
              "      <td>0</td>\n",
              "    </tr>\n",
              "    <tr>\n",
              "      <th>2</th>\n",
              "      <td>3</td>\n",
              "      <td>6.03</td>\n",
              "      <td>3.06</td>\n",
              "      <td>7</td>\n",
              "      <td>1</td>\n",
              "    </tr>\n",
              "    <tr>\n",
              "      <th>3</th>\n",
              "      <td>4</td>\n",
              "      <td>5.07</td>\n",
              "      <td>3.08</td>\n",
              "      <td>4</td>\n",
              "      <td>0</td>\n",
              "    </tr>\n",
              "    <tr>\n",
              "      <th>4</th>\n",
              "      <td>5</td>\n",
              "      <td>6.08</td>\n",
              "      <td>4.03</td>\n",
              "      <td>2</td>\n",
              "      <td>1</td>\n",
              "    </tr>\n",
              "  </tbody>\n",
              "</table>\n",
              "</div>"
            ],
            "text/plain": [
              "   Id  Panjang Badan  Berat Badan  Umur  Species\n",
              "0   1           7.00         3.06     2        0\n",
              "1   2           6.05         4.01     5        0\n",
              "2   3           6.03         3.06     7        1\n",
              "3   4           5.07         3.08     4        0\n",
              "4   5           6.08         4.03     2        1"
            ]
          },
          "metadata": {
            "tags": []
          },
          "execution_count": 5
        }
      ]
    },
    {
      "cell_type": "code",
      "metadata": {
        "colab": {
          "base_uri": "https://localhost:8080/"
        },
        "id": "44aDh2T-LfX7",
        "outputId": "e38df055-b18d-4c6e-d15b-d68236c25fec"
      },
      "source": [
        "print(kucingDataset)"
      ],
      "execution_count": null,
      "outputs": [
        {
          "output_type": "stream",
          "text": [
            "   Id  Panjang Badan  Berat Badan  Umur  Species\n",
            "0   1           7.00         3.06     2        0\n",
            "1   2           6.05         4.01     5        0\n",
            "2   3           6.03         3.06     7        1\n",
            "3   4           5.07         3.08     4        0\n",
            "4   5           6.08         4.03     2        1\n",
            "5   6           7.02         4.02     6        1\n",
            "6   7           7.01         3.08     8        0\n",
            "7   8           6.03         3.09     3        1\n",
            "8   9           6.00         4.00     3        0\n",
            "9  10           6.04         4.05     5        0\n"
          ],
          "name": "stdout"
        }
      ]
    },
    {
      "cell_type": "code",
      "metadata": {
        "id": "hCE4KCrVJ9LI"
      },
      "source": [
        "#Menghapus kolom \"Id\"\n",
        "kucingDataset = kucingDataset.drop(labels=\"Id\", axis=1)"
      ],
      "execution_count": null,
      "outputs": []
    },
    {
      "cell_type": "code",
      "metadata": {
        "colab": {
          "base_uri": "https://localhost:8080/"
        },
        "id": "PkUEeajuKsMn",
        "outputId": "43b523ca-182d-4d4b-d59e-79d4927152e3"
      },
      "source": [
        "print(kucingDataset)"
      ],
      "execution_count": null,
      "outputs": [
        {
          "output_type": "stream",
          "text": [
            "   Panjang Badan  Berat Badan  Umur  Species\n",
            "0           7.00         3.06     2        0\n",
            "1           6.05         4.01     5        0\n",
            "2           6.03         3.06     7        1\n",
            "3           5.07         3.08     4        0\n",
            "4           6.08         4.03     2        1\n",
            "5           7.02         4.02     6        1\n",
            "6           7.01         3.08     8        0\n",
            "7           6.03         3.09     3        1\n",
            "8           6.00         4.00     3        0\n",
            "9           6.04         4.05     5        0\n"
          ],
          "name": "stdout"
        }
      ]
    },
    {
      "cell_type": "code",
      "metadata": {
        "id": "qdSjxi7PL563"
      },
      "source": [
        "#Mengubah dataFrame ke array Numpy\n",
        "kucingDataset = kucingDataset.to_numpy()"
      ],
      "execution_count": null,
      "outputs": []
    },
    {
      "cell_type": "code",
      "metadata": {
        "colab": {
          "base_uri": "https://localhost:8080/"
        },
        "id": "BsmmoETZMH9t",
        "outputId": "6cee319c-3545-4261-ac5e-5d24eeebd8f3"
      },
      "source": [
        "print(kucingDataset)"
      ],
      "execution_count": null,
      "outputs": [
        {
          "output_type": "stream",
          "text": [
            "[[7.   3.06 2.   0.  ]\n",
            " [6.05 4.01 5.   0.  ]\n",
            " [6.03 3.06 7.   1.  ]\n",
            " [5.07 3.08 4.   0.  ]\n",
            " [6.08 4.03 2.   1.  ]\n",
            " [7.02 4.02 6.   1.  ]\n",
            " [7.01 3.08 8.   0.  ]\n",
            " [6.03 3.09 3.   1.  ]\n",
            " [6.   4.   3.   0.  ]\n",
            " [6.04 4.05 5.   0.  ]]\n"
          ],
          "name": "stdout"
        }
      ]
    },
    {
      "cell_type": "code",
      "metadata": {
        "id": "t6wIgO34MU1P"
      },
      "source": [
        "#Membagi dataset => 5 baris data untuk training dan 5 baris data untuk testing\n",
        "dataTraining = np.concatenate((kucingDataset[0:3, :], kucingDataset[3:5, :]),\n",
        "                              axis=0)\n",
        "dataTesting = np.concatenate((kucingDataset[5:8, :], kucingDataset[8:10, :]),\n",
        "                              axis=0)"
      ],
      "execution_count": null,
      "outputs": []
    },
    {
      "cell_type": "code",
      "metadata": {
        "colab": {
          "base_uri": "https://localhost:8080/"
        },
        "id": "I11SfnWTNh4A",
        "outputId": "3be4a8ef-2eaa-499b-cabe-d2d981465e2c"
      },
      "source": [
        "print(dataTraining)\n",
        "len(dataTraining)"
      ],
      "execution_count": null,
      "outputs": [
        {
          "output_type": "stream",
          "text": [
            "[[7.   3.06 2.   0.  ]\n",
            " [6.05 4.01 5.   0.  ]\n",
            " [6.03 3.06 7.   1.  ]\n",
            " [5.07 3.08 4.   0.  ]\n",
            " [6.08 4.03 2.   1.  ]]\n"
          ],
          "name": "stdout"
        },
        {
          "output_type": "execute_result",
          "data": {
            "text/plain": [
              "5"
            ]
          },
          "metadata": {
            "tags": []
          },
          "execution_count": 12
        }
      ]
    },
    {
      "cell_type": "code",
      "metadata": {
        "colab": {
          "base_uri": "https://localhost:8080/"
        },
        "id": "nSsvKanMN2zz",
        "outputId": "8fcdb89c-9a25-46b1-a8fe-737d644f26b2"
      },
      "source": [
        "print(dataTesting)\n",
        "len(dataTesting)"
      ],
      "execution_count": null,
      "outputs": [
        {
          "output_type": "stream",
          "text": [
            "[[7.02 4.02 6.   1.  ]\n",
            " [7.01 3.08 8.   0.  ]\n",
            " [6.03 3.09 3.   1.  ]\n",
            " [6.   4.   3.   0.  ]\n",
            " [6.04 4.05 5.   0.  ]]\n"
          ],
          "name": "stdout"
        },
        {
          "output_type": "execute_result",
          "data": {
            "text/plain": [
              "5"
            ]
          },
          "metadata": {
            "tags": []
          },
          "execution_count": 13
        }
      ]
    },
    {
      "cell_type": "code",
      "metadata": {
        "colab": {
          "base_uri": "https://localhost:8080/"
        },
        "id": "qkRQVZhlP_vE",
        "outputId": "9ebc58d5-9830-4007-af07-7ae9477ea63f"
      },
      "source": [
        "#Memecah Dataset ke Input dan Label\n",
        "inputTraining = dataTraining[:, 0:3]\n",
        "inputTesting = dataTesting[:,0:3]\n",
        "labelTraining = dataTraining[:,3]\n",
        "labelTesting = dataTesting[:,3]\n",
        "print(labelTraining)\n",
        "len(labelTraining)"
      ],
      "execution_count": null,
      "outputs": [
        {
          "output_type": "stream",
          "text": [
            "[0. 0. 1. 0. 1.]\n"
          ],
          "name": "stdout"
        },
        {
          "output_type": "execute_result",
          "data": {
            "text/plain": [
              "5"
            ]
          },
          "metadata": {
            "tags": []
          },
          "execution_count": 14
        }
      ]
    },
    {
      "cell_type": "code",
      "metadata": {
        "id": "nbtGY2nzQ0fO"
      },
      "source": [
        "#Mendefinisikan Decision Tree Classifier\n",
        "model = tree.DecisionTreeClassifier()"
      ],
      "execution_count": null,
      "outputs": []
    },
    {
      "cell_type": "code",
      "metadata": {
        "id": "FXuHAi8xSG2p"
      },
      "source": [
        "#Mentraining model\n",
        "model = model.fit(inputTraining, labelTraining)"
      ],
      "execution_count": null,
      "outputs": []
    },
    {
      "cell_type": "code",
      "metadata": {
        "colab": {
          "base_uri": "https://localhost:8080/"
        },
        "id": "utyGuEzkRrK6",
        "outputId": "a7d18cd2-f58e-42ad-81bf-dc3dfeca92bd"
      },
      "source": [
        "#Memprediksi Input Data Testing\n",
        "hasilPrediksi = model.predict(inputTesting)\n",
        "print(\"Label Sebenarnya : \", labelTesting)\n",
        "print(\"Hasil Prediksi : \", hasilPrediksi)"
      ],
      "execution_count": null,
      "outputs": [
        {
          "output_type": "stream",
          "text": [
            "Label Sebenarnya :  [1. 0. 1. 0. 0.]\n",
            "Hasil Prediksi :  [0. 1. 0. 0. 1.]\n"
          ],
          "name": "stdout"
        }
      ]
    },
    {
      "cell_type": "code",
      "metadata": {
        "colab": {
          "base_uri": "https://localhost:8080/"
        },
        "id": "ascPamdPSWHu",
        "outputId": "1538bae5-9214-4d40-d0c1-b20807746f93"
      },
      "source": [
        "#Menghitung Akurasi\n",
        "prediksiBenar = (hasilPrediksi == labelTesting).sum()\n",
        "prediksiSalah = (hasilPrediksi != labelTesting).sum()\n",
        "print(\"Prediksi Benar : \",prediksiBenar,\"data\")\n",
        "print(\"Prediksi Salah : \",prediksiSalah,\"data\")\n",
        "print(\"Akurasi : \",prediksiBenar/(prediksiBenar + prediksiSalah)* 100 ,\"%\")"
      ],
      "execution_count": null,
      "outputs": [
        {
          "output_type": "stream",
          "text": [
            "Prediksi Benar :  1 data\n",
            "Prediksi Salah :  4 data\n",
            "Akurasi :  20.0 %\n"
          ],
          "name": "stdout"
        }
      ]
    }
  ]
}