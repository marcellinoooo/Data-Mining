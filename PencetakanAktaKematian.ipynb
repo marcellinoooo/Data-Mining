{
  "nbformat": 4,
  "nbformat_minor": 0,
  "metadata": {
    "colab": {
      "name": "PencetakanAktaKematian.ipynb",
      "provenance": [],
      "collapsed_sections": []
    },
    "kernelspec": {
      "name": "python3",
      "display_name": "Python 3"
    },
    "language_info": {
      "name": "python"
    }
  },
  "cells": [
    {
      "cell_type": "markdown",
      "metadata": {
        "id": "wRQNYbvibR-1"
      },
      "source": [
        "NAMA : LAI,MARCELLINO AGUSTIAN\n",
        "\n",
        "NIM : A11.2018.10854\n",
        "\n",
        "Kelompok : A11.4617"
      ]
    },
    {
      "cell_type": "code",
      "metadata": {
        "id": "XFG5C9XXsJLj"
      },
      "source": [
        "import numpy as np\n",
        "import pandas as pd\n",
        "from sklearn import tree"
      ],
      "execution_count": 1,
      "outputs": []
    },
    {
      "cell_type": "code",
      "metadata": {
        "id": "8lgubtcwsgK_"
      },
      "source": [
        "kematianDataset = pd.read_csv('aktakematian.csv',delimiter=',',header=0)\n"
      ],
      "execution_count": null,
      "outputs": []
    },
    {
      "cell_type": "code",
      "metadata": {
        "colab": {
          "base_uri": "https://localhost:8080/",
          "height": 204
        },
        "id": "w7WfNURr0PWf",
        "outputId": "4ddb8c91-ee3f-4e20-efae-1f4b06b2f6d2"
      },
      "source": [
        "kematianDataset.head()"
      ],
      "execution_count": null,
      "outputs": [
        {
          "output_type": "execute_result",
          "data": {
            "text/html": [
              "<div>\n",
              "<style scoped>\n",
              "    .dataframe tbody tr th:only-of-type {\n",
              "        vertical-align: middle;\n",
              "    }\n",
              "\n",
              "    .dataframe tbody tr th {\n",
              "        vertical-align: top;\n",
              "    }\n",
              "\n",
              "    .dataframe thead th {\n",
              "        text-align: right;\n",
              "    }\n",
              "</style>\n",
              "<table border=\"1\" class=\"dataframe\">\n",
              "  <thead>\n",
              "    <tr style=\"text-align: right;\">\n",
              "      <th></th>\n",
              "      <th>Tahun</th>\n",
              "      <th>Triwulan</th>\n",
              "      <th>Nama_Kota</th>\n",
              "      <th>Nama_Kecamatan</th>\n",
              "      <th>Nama_Kelurahan</th>\n",
              "      <th>Jenis_Kelamin</th>\n",
              "      <th>Jumlah</th>\n",
              "    </tr>\n",
              "  </thead>\n",
              "  <tbody>\n",
              "    <tr>\n",
              "      <th>0</th>\n",
              "      <td>2020</td>\n",
              "      <td>1</td>\n",
              "      <td>KAB.ADM.KEP.SERIBU</td>\n",
              "      <td>KEP. SERIBU UTR</td>\n",
              "      <td>P. PANGGANG</td>\n",
              "      <td>Laki-Laki</td>\n",
              "      <td>9</td>\n",
              "    </tr>\n",
              "    <tr>\n",
              "      <th>1</th>\n",
              "      <td>2020</td>\n",
              "      <td>1</td>\n",
              "      <td>KAB.ADM.KEP.SERIBU</td>\n",
              "      <td>KEP. SERIBU UTR</td>\n",
              "      <td>P. KELAPA</td>\n",
              "      <td>Laki-Laki</td>\n",
              "      <td>7</td>\n",
              "    </tr>\n",
              "    <tr>\n",
              "      <th>2</th>\n",
              "      <td>2020</td>\n",
              "      <td>1</td>\n",
              "      <td>KAB.ADM.KEP.SERIBU</td>\n",
              "      <td>KEP. SERIBU UTR</td>\n",
              "      <td>P. HARAPAN</td>\n",
              "      <td>Laki-Laki</td>\n",
              "      <td>2</td>\n",
              "    </tr>\n",
              "    <tr>\n",
              "      <th>3</th>\n",
              "      <td>2020</td>\n",
              "      <td>1</td>\n",
              "      <td>KAB.ADM.KEP.SERIBU</td>\n",
              "      <td>KEP. SERIBU SLT</td>\n",
              "      <td>P. UNTUNG JAWA</td>\n",
              "      <td>Laki-Laki</td>\n",
              "      <td>1</td>\n",
              "    </tr>\n",
              "    <tr>\n",
              "      <th>4</th>\n",
              "      <td>2020</td>\n",
              "      <td>1</td>\n",
              "      <td>KAB.ADM.KEP.SERIBU</td>\n",
              "      <td>KEP. SERIBU SLT</td>\n",
              "      <td>P. TIDUNG</td>\n",
              "      <td>Laki-Laki</td>\n",
              "      <td>10</td>\n",
              "    </tr>\n",
              "  </tbody>\n",
              "</table>\n",
              "</div>"
            ],
            "text/plain": [
              "   Tahun  Triwulan           Nama_Kota  ...  Nama_Kelurahan Jenis_Kelamin Jumlah\n",
              "0   2020         1  KAB.ADM.KEP.SERIBU  ...     P. PANGGANG     Laki-Laki      9\n",
              "1   2020         1  KAB.ADM.KEP.SERIBU  ...       P. KELAPA     Laki-Laki      7\n",
              "2   2020         1  KAB.ADM.KEP.SERIBU  ...      P. HARAPAN     Laki-Laki      2\n",
              "3   2020         1  KAB.ADM.KEP.SERIBU  ...  P. UNTUNG JAWA     Laki-Laki      1\n",
              "4   2020         1  KAB.ADM.KEP.SERIBU  ...       P. TIDUNG     Laki-Laki     10\n",
              "\n",
              "[5 rows x 7 columns]"
            ]
          },
          "metadata": {
            "tags": []
          },
          "execution_count": 6
        }
      ]
    },
    {
      "cell_type": "code",
      "metadata": {
        "id": "kx2bU5bwxvtW"
      },
      "source": [
        "kematianDataset[\"Jenis_Kelamin\"] = pd.factorize(kematianDataset.Jenis_Kelamin)[0]\n"
      ],
      "execution_count": null,
      "outputs": []
    },
    {
      "cell_type": "code",
      "metadata": {
        "id": "YkKPalLTF2mw"
      },
      "source": [
        "kematianDataset[\"Nama_Kelurahan\"] = pd.factorize(kematianDataset.Nama_Kelurahan)[0]\n",
        "kematianDataset[\"Nama_Kecamatan\"] = pd.factorize(kematianDataset.Nama_Kecamatan)[0]\n",
        "kematianDataset[\"Nama_Kota\"] = pd.factorize(kematianDataset.Nama_Kota)[0]"
      ],
      "execution_count": null,
      "outputs": []
    },
    {
      "cell_type": "code",
      "metadata": {
        "colab": {
          "base_uri": "https://localhost:8080/",
          "height": 204
        },
        "id": "eiT5kEmL0vpZ",
        "outputId": "db257a02-d00d-47db-93eb-3d925e343fcb"
      },
      "source": [
        "kematianDataset.head()"
      ],
      "execution_count": null,
      "outputs": [
        {
          "output_type": "execute_result",
          "data": {
            "text/html": [
              "<div>\n",
              "<style scoped>\n",
              "    .dataframe tbody tr th:only-of-type {\n",
              "        vertical-align: middle;\n",
              "    }\n",
              "\n",
              "    .dataframe tbody tr th {\n",
              "        vertical-align: top;\n",
              "    }\n",
              "\n",
              "    .dataframe thead th {\n",
              "        text-align: right;\n",
              "    }\n",
              "</style>\n",
              "<table border=\"1\" class=\"dataframe\">\n",
              "  <thead>\n",
              "    <tr style=\"text-align: right;\">\n",
              "      <th></th>\n",
              "      <th>Tahun</th>\n",
              "      <th>Triwulan</th>\n",
              "      <th>Nama_Kota</th>\n",
              "      <th>Nama_Kecamatan</th>\n",
              "      <th>Nama_Kelurahan</th>\n",
              "      <th>Jenis_Kelamin</th>\n",
              "      <th>Jumlah</th>\n",
              "    </tr>\n",
              "  </thead>\n",
              "  <tbody>\n",
              "    <tr>\n",
              "      <th>0</th>\n",
              "      <td>2020</td>\n",
              "      <td>1</td>\n",
              "      <td>0</td>\n",
              "      <td>0</td>\n",
              "      <td>0</td>\n",
              "      <td>Laki-Laki</td>\n",
              "      <td>9</td>\n",
              "    </tr>\n",
              "    <tr>\n",
              "      <th>1</th>\n",
              "      <td>2020</td>\n",
              "      <td>1</td>\n",
              "      <td>0</td>\n",
              "      <td>0</td>\n",
              "      <td>1</td>\n",
              "      <td>Laki-Laki</td>\n",
              "      <td>7</td>\n",
              "    </tr>\n",
              "    <tr>\n",
              "      <th>2</th>\n",
              "      <td>2020</td>\n",
              "      <td>1</td>\n",
              "      <td>0</td>\n",
              "      <td>0</td>\n",
              "      <td>2</td>\n",
              "      <td>Laki-Laki</td>\n",
              "      <td>2</td>\n",
              "    </tr>\n",
              "    <tr>\n",
              "      <th>3</th>\n",
              "      <td>2020</td>\n",
              "      <td>1</td>\n",
              "      <td>0</td>\n",
              "      <td>1</td>\n",
              "      <td>3</td>\n",
              "      <td>Laki-Laki</td>\n",
              "      <td>1</td>\n",
              "    </tr>\n",
              "    <tr>\n",
              "      <th>4</th>\n",
              "      <td>2020</td>\n",
              "      <td>1</td>\n",
              "      <td>0</td>\n",
              "      <td>1</td>\n",
              "      <td>4</td>\n",
              "      <td>Laki-Laki</td>\n",
              "      <td>10</td>\n",
              "    </tr>\n",
              "  </tbody>\n",
              "</table>\n",
              "</div>"
            ],
            "text/plain": [
              "   Tahun  Triwulan  Nama_Kota  ...  Nama_Kelurahan  Jenis_Kelamin Jumlah\n",
              "0   2020         1          0  ...               0      Laki-Laki      9\n",
              "1   2020         1          0  ...               1      Laki-Laki      7\n",
              "2   2020         1          0  ...               2      Laki-Laki      2\n",
              "3   2020         1          0  ...               3      Laki-Laki      1\n",
              "4   2020         1          0  ...               4      Laki-Laki     10\n",
              "\n",
              "[5 rows x 7 columns]"
            ]
          },
          "metadata": {
            "tags": []
          },
          "execution_count": 9
        }
      ]
    },
    {
      "cell_type": "code",
      "metadata": {
        "id": "-Q5y09VszsNr"
      },
      "source": [
        "kematianDataset = kematianDataset.drop(labels=\"Triwulan\", axis=1)\n"
      ],
      "execution_count": null,
      "outputs": []
    },
    {
      "cell_type": "code",
      "metadata": {
        "colab": {
          "base_uri": "https://localhost:8080/"
        },
        "id": "ATRAJ0uR2I56",
        "outputId": "2bf36a6e-4fe8-4f90-fea8-7b7da790cdf9"
      },
      "source": [
        "print(kematianDataset)"
      ],
      "execution_count": null,
      "outputs": [
        {
          "output_type": "stream",
          "text": [
            "     Tahun  Nama_Kota  Nama_Kecamatan  Nama_Kelurahan Jenis_Kelamin  Jumlah\n",
            "0     2020          0               0               0     Laki-Laki       9\n",
            "1     2020          0               0               1     Laki-Laki       7\n",
            "2     2020          0               0               2     Laki-Laki       2\n",
            "3     2020          0               1               3     Laki-Laki       1\n",
            "4     2020          0               1               4     Laki-Laki      10\n",
            "..     ...        ...             ...             ...           ...     ...\n",
            "529   2020          5              43             262     Perempuan      16\n",
            "530   2020          5              43             263     Perempuan      15\n",
            "531   2020          5              43             264     Perempuan      22\n",
            "532   2020          5              43             265     Perempuan      34\n",
            "533   2020          5              43             266     Perempuan      13\n",
            "\n",
            "[534 rows x 6 columns]\n"
          ],
          "name": "stdout"
        }
      ]
    },
    {
      "cell_type": "code",
      "metadata": {
        "id": "BCf4cVoq17zk"
      },
      "source": [
        "kematianDataset = kematianDataset.to_numpy()"
      ],
      "execution_count": null,
      "outputs": []
    },
    {
      "cell_type": "code",
      "metadata": {
        "colab": {
          "base_uri": "https://localhost:8080/"
        },
        "id": "1KW5AqUr2jja",
        "outputId": "08f654ba-cf84-4c37-c82e-40039d60e3bc"
      },
      "source": [
        "print(kematianDataset)"
      ],
      "execution_count": null,
      "outputs": [
        {
          "output_type": "stream",
          "text": [
            "[[2020 0 0 0 'Laki-Laki' 9]\n",
            " [2020 0 0 1 'Laki-Laki' 7]\n",
            " [2020 0 0 2 'Laki-Laki' 2]\n",
            " ...\n",
            " [2020 5 43 264 'Perempuan' 22]\n",
            " [2020 5 43 265 'Perempuan' 34]\n",
            " [2020 5 43 266 'Perempuan' 13]]\n"
          ],
          "name": "stdout"
        }
      ]
    },
    {
      "cell_type": "code",
      "metadata": {
        "id": "7-gjsFL8ySrH"
      },
      "source": [
        "dataTraining = np.concatenate((kematianDataset[200:300,:],\n",
        "                              kematianDataset[300:500,:]), axis=0)\n",
        "dataTesting = np.concatenate((kematianDataset[250:300,:],\n",
        "                              kematianDataset[450:500,:]),axis=0)\n",
        "inputTraining =dataTraining[:,0:4]\n",
        "inputTesting =dataTesting[:,0:4]\n",
        "labelTraining =dataTraining[:,4]\n",
        "labelTesting =dataTesting[:,4]"
      ],
      "execution_count": null,
      "outputs": []
    },
    {
      "cell_type": "code",
      "metadata": {
        "colab": {
          "base_uri": "https://localhost:8080/"
        },
        "id": "jHjry4OQ3GtD",
        "outputId": "12b2e850-ba8b-443a-fbb7-1a4c864da9fd"
      },
      "source": [
        "model = tree.DecisionTreeClassifier()\n",
        "model = model.fit(inputTraining, labelTraining)\n",
        "hasilPrediksi = model.predict(inputTesting)\n",
        "print(\"label sebenarnya\", labelTesting)\n",
        "print(\"hasil prediksi : \", hasilPrediksi)\n",
        "\n",
        "prediksiBenar = (hasilPrediksi == labelTesting).sum()\n",
        "prediksiSalah = (hasilPrediksi != labelTesting).sum()\n",
        "print(\"prediksi benar : \", prediksiBenar, \"data\")\n",
        "print(\"prediksi salah : \", prediksiSalah, \"data\")\n",
        "print(\"akurasi : \", prediksiBenar/(prediksiBenar+prediksiSalah)*100,\"%\")"
      ],
      "execution_count": null,
      "outputs": [
        {
          "output_type": "stream",
          "text": [
            "label sebenarnya ['Laki-Laki' 'Laki-Laki' 'Laki-Laki' 'Laki-Laki' 'Laki-Laki' 'Laki-Laki'\n",
            " 'Laki-Laki' 'Laki-Laki' 'Laki-Laki' 'Laki-Laki' 'Laki-Laki' 'Laki-Laki'\n",
            " 'Laki-Laki' 'Laki-Laki' 'Laki-Laki' 'Laki-Laki' 'Laki-Laki' 'Perempuan'\n",
            " 'Perempuan' 'Perempuan' 'Perempuan' 'Perempuan' 'Perempuan' 'Perempuan'\n",
            " 'Perempuan' 'Perempuan' 'Perempuan' 'Perempuan' 'Perempuan' 'Perempuan'\n",
            " 'Perempuan' 'Perempuan' 'Perempuan' 'Perempuan' 'Perempuan' 'Perempuan'\n",
            " 'Perempuan' 'Perempuan' 'Perempuan' 'Perempuan' 'Perempuan' 'Perempuan'\n",
            " 'Perempuan' 'Perempuan' 'Perempuan' 'Perempuan' 'Perempuan' 'Perempuan'\n",
            " 'Perempuan' 'Perempuan' 'Perempuan' 'Perempuan' 'Perempuan' 'Perempuan'\n",
            " 'Perempuan' 'Perempuan' 'Perempuan' 'Perempuan' 'Perempuan' 'Perempuan'\n",
            " 'Perempuan' 'Perempuan' 'Perempuan' 'Perempuan' 'Perempuan' 'Perempuan'\n",
            " 'Perempuan' 'Perempuan' 'Perempuan' 'Perempuan' 'Perempuan' 'Perempuan'\n",
            " 'Perempuan' 'Perempuan' 'Perempuan' 'Perempuan' 'Perempuan' 'Perempuan'\n",
            " 'Perempuan' 'Perempuan' 'Perempuan' 'Perempuan' 'Perempuan' 'Perempuan'\n",
            " 'Perempuan' 'Perempuan' 'Perempuan' 'Perempuan' 'Perempuan' 'Perempuan'\n",
            " 'Perempuan' 'Perempuan' 'Perempuan' 'Perempuan' 'Perempuan' 'Perempuan'\n",
            " 'Perempuan' 'Perempuan' 'Perempuan' 'Perempuan']\n",
            "hasil prediksi :  ['Laki-Laki' 'Laki-Laki' 'Laki-Laki' 'Laki-Laki' 'Laki-Laki' 'Laki-Laki'\n",
            " 'Laki-Laki' 'Laki-Laki' 'Laki-Laki' 'Laki-Laki' 'Laki-Laki' 'Laki-Laki'\n",
            " 'Laki-Laki' 'Laki-Laki' 'Laki-Laki' 'Laki-Laki' 'Laki-Laki' 'Perempuan'\n",
            " 'Perempuan' 'Perempuan' 'Perempuan' 'Perempuan' 'Perempuan' 'Perempuan'\n",
            " 'Perempuan' 'Perempuan' 'Perempuan' 'Perempuan' 'Perempuan' 'Perempuan'\n",
            " 'Perempuan' 'Perempuan' 'Perempuan' 'Perempuan' 'Perempuan' 'Perempuan'\n",
            " 'Perempuan' 'Perempuan' 'Perempuan' 'Perempuan' 'Perempuan' 'Perempuan'\n",
            " 'Perempuan' 'Perempuan' 'Perempuan' 'Perempuan' 'Perempuan' 'Perempuan'\n",
            " 'Perempuan' 'Perempuan' 'Perempuan' 'Perempuan' 'Perempuan' 'Perempuan'\n",
            " 'Perempuan' 'Perempuan' 'Perempuan' 'Perempuan' 'Perempuan' 'Perempuan'\n",
            " 'Perempuan' 'Perempuan' 'Perempuan' 'Perempuan' 'Perempuan' 'Perempuan'\n",
            " 'Perempuan' 'Laki-Laki' 'Laki-Laki' 'Laki-Laki' 'Laki-Laki' 'Laki-Laki'\n",
            " 'Laki-Laki' 'Laki-Laki' 'Laki-Laki' 'Laki-Laki' 'Laki-Laki' 'Laki-Laki'\n",
            " 'Laki-Laki' 'Laki-Laki' 'Laki-Laki' 'Laki-Laki' 'Laki-Laki' 'Laki-Laki'\n",
            " 'Laki-Laki' 'Laki-Laki' 'Laki-Laki' 'Laki-Laki' 'Laki-Laki' 'Laki-Laki'\n",
            " 'Laki-Laki' 'Laki-Laki' 'Laki-Laki' 'Laki-Laki' 'Laki-Laki' 'Laki-Laki'\n",
            " 'Laki-Laki' 'Laki-Laki' 'Laki-Laki' 'Laki-Laki']\n",
            "prediksi benar :  67 data\n",
            "prediksi salah :  33 data\n",
            "akurasi :  67.0 %\n"
          ],
          "name": "stdout"
        }
      ]
    }
  ]
}