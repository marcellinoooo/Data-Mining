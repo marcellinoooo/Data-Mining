{
  "nbformat": 4,
  "nbformat_minor": 0,
  "metadata": {
    "colab": {
      "name": "Data Preprocessing Obesitas.ipynb",
      "provenance": [],
      "collapsed_sections": []
    },
    "kernelspec": {
      "name": "python3",
      "display_name": "Python 3"
    },
    "language_info": {
      "name": "python"
    }
  },
  "cells": [
    {
      "cell_type": "markdown",
      "metadata": {
        "id": "kWtuqVWNgMgZ"
      },
      "source": [
        "TUGAS 3 DATA MINING\n",
        "NAMA : LAI, MARCELLINO AGUSTIAN\n",
        "NIM : A11.2018.10854\n",
        "KELOMPOK : A11.4617"
      ]
    },
    {
      "cell_type": "code",
      "metadata": {
        "id": "NIrq4HQSgjOR"
      },
      "source": [
        "import numpy as np\n",
        "import matplotlib.pyplot as plt\n",
        "import pandas as pd"
      ],
      "execution_count": null,
      "outputs": []
    },
    {
      "cell_type": "code",
      "metadata": {
        "id": "qRVhpQYSim6Y"
      },
      "source": [
        "dataset = pd.read_csv('Dataset.csv')\n",
        "x = dataset.iloc[:,:-1].values\n",
        "y = dataset.iloc[:, -1].values"
      ],
      "execution_count": null,
      "outputs": []
    },
    {
      "cell_type": "code",
      "metadata": {
        "colab": {
          "base_uri": "https://localhost:8080/"
        },
        "id": "sAIEM1z2kPeF",
        "outputId": "a5b0e597-f5af-4462-e82e-d6d87c5399c9"
      },
      "source": [
        "print(x)"
      ],
      "execution_count": null,
      "outputs": [
        {
          "output_type": "stream",
          "text": [
            "[['Jakarta' 165.0 80.0]\n",
            " ['Semarang' 162.0 55.0]\n",
            " ['Surabaya' nan 70.0]\n",
            " ['Semarang' 140.0 nan]\n",
            " ['Jakarta' 168.0 58.0]\n",
            " ['Surabaya' 180.0 85.0]\n",
            " ['Surabaya' nan 95.0]\n",
            " ['Jakarta' 160.0 75.0]\n",
            " ['Semarang' 168.0 88.0]\n",
            " ['Semarang' 185.0 nan]]\n"
          ],
          "name": "stdout"
        }
      ]
    },
    {
      "cell_type": "code",
      "metadata": {
        "colab": {
          "base_uri": "https://localhost:8080/"
        },
        "id": "2GAI-CAxkYmb",
        "outputId": "6fcbec66-a470-466e-9650-a19fac8b6fff"
      },
      "source": [
        "print(y)"
      ],
      "execution_count": null,
      "outputs": [
        {
          "output_type": "stream",
          "text": [
            "['Ya' 'Tidak' 'Tidak' 'Ya' 'Tidak' 'Tidak' 'Ya' 'Ya' 'Ya' 'Tidak']\n"
          ],
          "name": "stdout"
        }
      ]
    },
    {
      "cell_type": "code",
      "metadata": {
        "id": "yWNFaqQEnjuf"
      },
      "source": [
        "from sklearn.impute import SimpleImputer\n",
        "imputer = SimpleImputer(missing_values=np.nan, strategy='mean')\n",
        "imputer.fit(x[:, 1:3])\n",
        "x[:, 1:3] = imputer.transform(x[: , 1:3])"
      ],
      "execution_count": null,
      "outputs": []
    },
    {
      "cell_type": "code",
      "metadata": {
        "colab": {
          "base_uri": "https://localhost:8080/"
        },
        "id": "yck0fQhynojk",
        "outputId": "37fb3cf4-737d-4870-8771-d9cd6bbf9ebd"
      },
      "source": [
        "print(x)"
      ],
      "execution_count": null,
      "outputs": [
        {
          "output_type": "stream",
          "text": [
            "[['Jakarta' 165.0 80.0]\n",
            " ['Semarang' 162.0 55.0]\n",
            " ['Surabaya' 166.0 70.0]\n",
            " ['Semarang' 140.0 75.75]\n",
            " ['Jakarta' 168.0 58.0]\n",
            " ['Surabaya' 180.0 85.0]\n",
            " ['Surabaya' 166.0 95.0]\n",
            " ['Jakarta' 160.0 75.0]\n",
            " ['Semarang' 168.0 88.0]\n",
            " ['Semarang' 185.0 75.75]]\n"
          ],
          "name": "stdout"
        }
      ]
    },
    {
      "cell_type": "code",
      "metadata": {
        "id": "3BAlYMZBnslU"
      },
      "source": [
        "from sklearn.compose import ColumnTransformer\n",
        "from sklearn.preprocessing import OneHotEncoder\n",
        "ct = ColumnTransformer(transformers=[('encoder',OneHotEncoder(),[0])],remainder = 'passthrough')\n",
        "x = np.array(ct.fit_transform(x))"
      ],
      "execution_count": null,
      "outputs": []
    },
    {
      "cell_type": "code",
      "metadata": {
        "colab": {
          "base_uri": "https://localhost:8080/"
        },
        "id": "XlEq-j27nwSP",
        "outputId": "1ed93c58-d415-4828-dddc-ab668bfdc179"
      },
      "source": [
        "print(x)"
      ],
      "execution_count": null,
      "outputs": [
        {
          "output_type": "stream",
          "text": [
            "[[1.0 0.0 0.0 165.0 80.0]\n",
            " [0.0 1.0 0.0 162.0 55.0]\n",
            " [0.0 0.0 1.0 166.0 70.0]\n",
            " [0.0 1.0 0.0 140.0 75.75]\n",
            " [1.0 0.0 0.0 168.0 58.0]\n",
            " [0.0 0.0 1.0 180.0 85.0]\n",
            " [0.0 0.0 1.0 166.0 95.0]\n",
            " [1.0 0.0 0.0 160.0 75.0]\n",
            " [0.0 1.0 0.0 168.0 88.0]\n",
            " [0.0 1.0 0.0 185.0 75.75]]\n"
          ],
          "name": "stdout"
        }
      ]
    },
    {
      "cell_type": "code",
      "metadata": {
        "id": "fYk97vLNn6Om"
      },
      "source": [
        "from sklearn.preprocessing import LabelEncoder\n",
        "le = LabelEncoder()\n",
        "y = le.fit_transform(y)"
      ],
      "execution_count": null,
      "outputs": []
    },
    {
      "cell_type": "code",
      "metadata": {
        "colab": {
          "base_uri": "https://localhost:8080/"
        },
        "id": "JJqLRkTOoB0A",
        "outputId": "d13c9813-3ebb-4b0d-827e-437364fd9bb7"
      },
      "source": [
        "print(y)"
      ],
      "execution_count": null,
      "outputs": [
        {
          "output_type": "stream",
          "text": [
            "[1 0 0 1 0 0 1 1 1 0]\n"
          ],
          "name": "stdout"
        }
      ]
    },
    {
      "cell_type": "code",
      "metadata": {
        "id": "H2BiyFCkp63h"
      },
      "source": [
        "from sklearn.model_selection import train_test_split\n",
        "x_train, x_test, y_train, y_test = train_test_split(x,y,test_size = 0.2, random_state = 1 )"
      ],
      "execution_count": null,
      "outputs": []
    },
    {
      "cell_type": "code",
      "metadata": {
        "colab": {
          "base_uri": "https://localhost:8080/"
        },
        "id": "Yao5NA_rp9eA",
        "outputId": "09cdfb52-549b-4601-be43-b1ca2596017d"
      },
      "source": [
        "print(x_train)"
      ],
      "execution_count": null,
      "outputs": [
        {
          "output_type": "stream",
          "text": [
            "[[0.0 0.0 1.0 166.0 95.0]\n",
            " [1.0 0.0 0.0 168.0 58.0]\n",
            " [1.0 0.0 0.0 165.0 80.0]\n",
            " [0.0 1.0 0.0 140.0 75.75]\n",
            " [0.0 1.0 0.0 162.0 55.0]\n",
            " [1.0 0.0 0.0 160.0 75.0]\n",
            " [0.0 1.0 0.0 168.0 88.0]\n",
            " [0.0 0.0 1.0 180.0 85.0]]\n"
          ],
          "name": "stdout"
        }
      ]
    },
    {
      "cell_type": "code",
      "metadata": {
        "colab": {
          "base_uri": "https://localhost:8080/"
        },
        "id": "p7xtLD3VqBhM",
        "outputId": "7fddf30b-165e-475f-ed44-e30a2ea91029"
      },
      "source": [
        "print(y_train)"
      ],
      "execution_count": null,
      "outputs": [
        {
          "output_type": "stream",
          "text": [
            "[1 0 1 1 0 1 1 0]\n"
          ],
          "name": "stdout"
        }
      ]
    },
    {
      "cell_type": "code",
      "metadata": {
        "colab": {
          "base_uri": "https://localhost:8080/"
        },
        "id": "AK1RO6CRqFu_",
        "outputId": "d9ecdfe4-ef92-44ac-fb4a-e5d383a1d3f7"
      },
      "source": [
        "print(y_test)"
      ],
      "execution_count": null,
      "outputs": [
        {
          "output_type": "stream",
          "text": [
            "[0 0]\n"
          ],
          "name": "stdout"
        }
      ]
    },
    {
      "cell_type": "code",
      "metadata": {
        "id": "l3GTIlVoqLQ5"
      },
      "source": [
        "from sklearn.preprocessing import StandardScaler\n",
        "sc = StandardScaler()\n",
        "x_train[:, 4:] = sc.fit_transform(x_train[:,4:])\n",
        "x_test[:, 4:] = sc.transform(x_test[:,4:])"
      ],
      "execution_count": null,
      "outputs": []
    },
    {
      "cell_type": "code",
      "metadata": {
        "colab": {
          "base_uri": "https://localhost:8080/"
        },
        "id": "vpJIpe92qQeZ",
        "outputId": "05e106e3-9c6a-4cb2-e2c6-28079a38c78f"
      },
      "source": [
        "print(x_train)"
      ],
      "execution_count": null,
      "outputs": [
        {
          "output_type": "stream",
          "text": [
            "[[0.0 0.0 1.0 166.0 1.4179990157090405]\n",
            " [1.0 0.0 0.0 168.0 -1.4132165569714048]\n",
            " [1.0 0.0 0.0 165.0 0.27020891867642766]\n",
            " [0.0 1.0 0.0 140.0 -0.054998275482812706]\n",
            " [0.0 1.0 0.0 162.0 -1.6427745763779273]\n",
            " [1.0 0.0 0.0 160.0 -0.11238778033444335]\n",
            " [0.0 1.0 0.0 168.0 0.8823636370938213]\n",
            " [0.0 0.0 1.0 180.0 0.6528056176872986]]\n"
          ],
          "name": "stdout"
        }
      ]
    },
    {
      "cell_type": "code",
      "metadata": {
        "colab": {
          "base_uri": "https://localhost:8080/"
        },
        "id": "1X2Zz1Djqeze",
        "outputId": "ff2ee16e-bb3b-4545-8850-0ef1e1ca682c"
      },
      "source": [
        "print(x_test)"
      ],
      "execution_count": null,
      "outputs": [
        {
          "output_type": "stream",
          "text": [
            "[[0.0 0.0 1.0 166.0 -0.49498447934531437]\n",
            " [0.0 1.0 0.0 185.0 -0.054998275482812706]]\n"
          ],
          "name": "stdout"
        }
      ]
    }
  ]
}